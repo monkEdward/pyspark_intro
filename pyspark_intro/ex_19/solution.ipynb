{
 "cells": [
  {
   "cell_type": "code",
   "execution_count": 10,
   "metadata": {},
   "outputs": [],
   "source": [
    "import os\n",
    "from pyspark.sql import SparkSession\n",
    "from pyspark.sql import functions as F"
   ]
  },
  {
   "cell_type": "code",
   "execution_count": 11,
   "metadata": {},
   "outputs": [],
   "source": [
    "spark = SparkSession.builder.appName(\"solution_ex_19\").getOrCreate()"
   ]
  },
  {
   "cell_type": "code",
   "execution_count": 12,
   "metadata": {},
   "outputs": [
    {
     "name": "stdout",
     "output_type": "stream",
     "text": [
      "True\n",
      "False\n"
     ]
    }
   ],
   "source": [
    "inputPath = './data'\n",
    "outputPath = './output_ex_19/df_sol'\n",
    "\n",
    "print(os.path.exists(inputPath))\n",
    "print(os.path.exists(outputPath))"
   ]
  },
  {
   "cell_type": "code",
   "execution_count": 13,
   "metadata": {},
   "outputs": [
    {
     "name": "stdout",
     "output_type": "stream",
     "text": [
      "+-----+-------+---+\n",
      "| name|surname|age|\n",
      "+-----+-------+---+\n",
      "|Paolo|  Garza| 42|\n",
      "| Luca| Boccia| 41|\n",
      "|Maura|Bianchi| 16|\n",
      "+-----+-------+---+\n",
      "\n"
     ]
    }
   ],
   "source": [
    "# Create a DataFrame from persons.csv\n",
    "dfPersons = spark.read.load(inputPath,\\\n",
    "                     format=\"csv\",\\\n",
    "                     header=True,\\\n",
    "                     inferSchema=True)\n",
    "dfPersons.show()"
   ]
  },
  {
   "cell_type": "code",
   "execution_count": 14,
   "metadata": {},
   "outputs": [
    {
     "name": "stderr",
     "output_type": "stream",
     "text": [
      "22/06/03 16:58:24 WARN SimpleFunctionRegistry: The function agecategory replaced a previously registered function.\n"
     ]
    },
    {
     "data": {
      "text/plain": [
       "<function __main__.agecat(age)>"
      ]
     },
     "execution_count": 14,
     "metadata": {},
     "output_type": "execute_result"
    }
   ],
   "source": [
    "def agecat(age):\n",
    "    return \"[\"+str((age//10)*10)+\"-\"+str((age//10)*10+9)+\"]\"\n",
    "\n",
    "\n",
    "spark.udf.register(\"AgeCategory\", agecat)\n",
    "\n",
    "# version 2\n",
    "# spark.udf.register(\"range_age\", lambda age: '['+str((age//10)*10)+'-'+str((age//10)*10+9)+']')"
   ]
  },
  {
   "cell_type": "code",
   "execution_count": 15,
   "metadata": {},
   "outputs": [
    {
     "name": "stdout",
     "output_type": "stream",
     "text": [
      "+-----+-------+--------+\n",
      "| name|surname|rangeage|\n",
      "+-----+-------+--------+\n",
      "|Paolo|  Garza| [40-49]|\n",
      "| Luca| Boccia| [40-49]|\n",
      "|Maura|Bianchi| [10-19]|\n",
      "+-----+-------+--------+\n",
      "\n"
     ]
    }
   ],
   "source": [
    "profilesDiscretizedAge = dfPersons.selectExpr(\"name\", \"surname\", \"AgeCategory(age) as rangeage\")\n",
    "profilesDiscretizedAge.show()"
   ]
  },
  {
   "cell_type": "code",
   "execution_count": 16,
   "metadata": {},
   "outputs": [],
   "source": [
    "profilesDiscretizedAge.write.csv(outputPath)"
   ]
  },
  {
   "cell_type": "code",
   "execution_count": null,
   "metadata": {},
   "outputs": [],
   "source": []
  }
 ],
 "metadata": {
  "interpreter": {
   "hash": "31f2aee4e71d21fbe5cf8b01ff0e069b9275f58929596ceb00d14d90e3e16cd6"
  },
  "kernelspec": {
   "display_name": "Python 3.8.10 64-bit",
   "language": "python",
   "name": "python3"
  },
  "language_info": {
   "codemirror_mode": {
    "name": "ipython",
    "version": 3
   },
   "file_extension": ".py",
   "mimetype": "text/x-python",
   "name": "python",
   "nbconvert_exporter": "python",
   "pygments_lexer": "ipython3",
   "version": "3.8.10"
  },
  "orig_nbformat": 4
 },
 "nbformat": 4,
 "nbformat_minor": 2
}
