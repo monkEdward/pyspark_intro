{
 "cells": [
  {
   "cell_type": "code",
   "execution_count": 1,
   "metadata": {},
   "outputs": [],
   "source": [
    "import os\n",
    "from pyspark.sql import SparkSession"
   ]
  },
  {
   "cell_type": "code",
   "execution_count": 2,
   "metadata": {},
   "outputs": [
    {
     "name": "stderr",
     "output_type": "stream",
     "text": [
      "22/07/19 12:06:52 WARN Utils: Your hostname, certusr-VirtualBox resolves to a loopback address: 127.0.1.1; using 10.0.2.15 instead (on interface enp0s3)\n",
      "22/07/19 12:06:52 WARN Utils: Set SPARK_LOCAL_IP if you need to bind to another address\n",
      "WARNING: An illegal reflective access operation has occurred\n",
      "WARNING: Illegal reflective access by org.apache.spark.unsafe.Platform (file:/opt/spark/jars/spark-unsafe_2.12-3.2.1.jar) to constructor java.nio.DirectByteBuffer(long,int)\n",
      "WARNING: Please consider reporting this to the maintainers of org.apache.spark.unsafe.Platform\n",
      "WARNING: Use --illegal-access=warn to enable warnings of further illegal reflective access operations\n",
      "WARNING: All illegal access operations will be denied in a future release\n",
      "Using Spark's default log4j profile: org/apache/spark/log4j-defaults.properties\n",
      "Setting default log level to \"WARN\".\n",
      "To adjust logging level use sc.setLogLevel(newLevel). For SparkR, use setLogLevel(newLevel).\n",
      "22/07/19 12:06:54 WARN NativeCodeLoader: Unable to load native-hadoop library for your platform... using builtin-java classes where applicable\n"
     ]
    }
   ],
   "source": [
    "spark = SparkSession.builder.appName('solution_ex_15').getOrCreate()"
   ]
  },
  {
   "cell_type": "code",
   "execution_count": 3,
   "metadata": {},
   "outputs": [],
   "source": [
    "inputPath = './data'\n",
    "\n",
    "inp_movies = inputPath + '/movies.txt'\n",
    "inp_pref = inputPath + '/preferences.txt'\n",
    "inp_watched = inputPath + '/watchedmovies.txt'\n",
    "\n",
    "outputPath = './output_ex_14'\n",
    "\n",
    "moviesRDD = spark.sparkContext.textFile(inp_movies)\n",
    "preferencesRDD = spark.sparkContext.textFile(inp_pref)\n",
    "watchedRDD = spark.sparkContext.textFile(inp_watched)\n",
    "\n",
    "\n",
    "threshold = 0.5"
   ]
  },
  {
   "cell_type": "code",
   "execution_count": 4,
   "metadata": {},
   "outputs": [],
   "source": [
    "# Define RDD pairs with keys and userid/gengre as values\n",
    "moviesRDD = moviesRDD.map(lambda x: (x.split(',')[0], x.split(',')[2]))\n",
    "watchedRDD = watchedRDD.map(lambda x: (x.split(',')[1], x.split(',')[0]))\n",
    "preferencesRDD = preferencesRDD.map(lambda x: (x.split(',')[0], x.split(',')[1]))\n",
    "\n",
    "#moviesRDD.collect()\n",
    "#watched.collect()"
   ]
  },
  {
   "cell_type": "code",
   "execution_count": 5,
   "metadata": {},
   "outputs": [],
   "source": [
    "# Join watched movies with movies\n",
    "moviesRDD_users = watchedRDD.join(moviesRDD)\n",
    "\n",
    "# Select only userid (as key) and genre (as value) and then\n",
    "# Cogroup the lists of watched and liked genres for each user\n",
    "# There is one pair for each userid\n",
    "# the value contains the list of genres (with repetitions) of the\n",
    "# watched movies and the list of liked genres\n",
    "cat_watched_user = moviesRDD_users.map(lambda x: (x[1][0], x[1][1]))\n",
    "cat_watched_user = cat_watched_user.cogroup(preferencesRDD)"
   ]
  },
  {
   "cell_type": "code",
   "execution_count": 6,
   "metadata": {},
   "outputs": [],
   "source": [
    "def misleadingProfileFunc(userWatchedLikedGenresLists):\n",
    "    # Store in a local list the \"small\" set of liked genres\n",
    "    # associated with the current user\n",
    "    likedGenres = list(userWatchedLikedGenresLists[1][1])\n",
    "    \n",
    "    # Iterate over the watched movies (the genres of the watched movies)and count\n",
    "    # - The number of watched movies for this user\n",
    "    # - How many of watched movies are associated with a not liked genre\n",
    "    numWatchedMovies = 0\n",
    "    notLiked = 0\n",
    "   \n",
    "    for watchedGenre in userWatchedLikedGenresLists[1][0]:\n",
    "        numWatchedMovies = numWatchedMovies+1\n",
    "        if watchedGenre not in likedGenres:\n",
    "            notLiked = notLiked+1\n",
    "            \n",
    "    # Check if the number of watched movies associated with a non-liked genre\n",
    "    # is greater that threshold%\n",
    "    if float(notLiked) > threshold * float(numWatchedMovies):\n",
    "        return True\n",
    "    else: \n",
    "        return False\n",
    "\n",
    "# Filter the users with a misleading profile\n",
    "misleadingUsersListsRDD = cat_watched_user.filter(misleadingProfileFunc)"
   ]
  },
  {
   "cell_type": "code",
   "execution_count": null,
   "metadata": {},
   "outputs": [],
   "source": [
    "# cat_watched_user = cat_watched_user.mapValues(lambda value: (list(value[0]), list(value[1]) ) )\n",
    "\n",
    "# def misleadingProfile(line):\n",
    "# \n",
    "#     not_liked = 0\n",
    "# \n",
    "#     for film in line[1][0]:\n",
    "#         if film not in line[1][1]:\n",
    "#             not_liked += 1\n",
    "# \n",
    "#     tresh = not_liked / len(line[1][0])\n",
    "# \n",
    "#     if tresh > threeshold:\n",
    "#         return True\n",
    "#     else:\n",
    "#         return False\n",
    "# \n",
    "# misleaded_profile_RDD = cat_watched_user.filter(misleadingProfile)"
   ]
  },
  {
   "cell_type": "code",
   "execution_count": 9,
   "metadata": {},
   "outputs": [
    {
     "name": "stderr",
     "output_type": "stream",
     "text": [
      "                                                                                \r"
     ]
    }
   ],
   "source": [
    "misleadingUsersRDD = misleadingUsersListsRDD.keys()\n",
    "misleadingUsersListsRDD.saveAsTextFile(outputPath)"
   ]
  }
 ],
 "metadata": {
  "kernelspec": {
   "display_name": "Python 3.8.10 64-bit",
   "language": "python",
   "name": "python3"
  },
  "language_info": {
   "codemirror_mode": {
    "name": "ipython",
    "version": 3
   },
   "file_extension": ".py",
   "mimetype": "text/x-python",
   "name": "python",
   "nbconvert_exporter": "python",
   "pygments_lexer": "ipython3",
   "version": "3.8.10"
  },
  "orig_nbformat": 4,
  "vscode": {
   "interpreter": {
    "hash": "916dbcbb3f70747c44a77c7bcd40155683ae19c65e1c03b4aa3499c5328201f1"
   }
  }
 },
 "nbformat": 4,
 "nbformat_minor": 2
}
